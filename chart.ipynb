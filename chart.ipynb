{
 "cells": [
  {
   "cell_type": "code",
   "execution_count": 2,
   "metadata": {},
   "outputs": [
    {
     "name": "stdout",
     "output_type": "stream",
     "text": [
      "Note: you may need to restart the kernel to use updated packages.\n"
     ]
    },
    {
     "name": "stderr",
     "output_type": "stream",
     "text": [
      "\n",
      "[notice] A new release of pip is available: 24.0 -> 24.2\n",
      "[notice] To update, run: python.exe -m pip install --upgrade pip\n"
     ]
    },
    {
     "name": "stdout",
     "output_type": "stream",
     "text": [
      "Defaulting to user installation because normal site-packages is not writeable\n",
      "Collecting altair\n",
      "  Using cached altair-5.3.0-py3-none-any.whl.metadata (9.2 kB)\n",
      "Requirement already satisfied: jinja2 in c:\\users\\santosh_kumar_panda1\\appdata\\roaming\\python\\python310\\site-packages (from altair) (3.1.4)\n",
      "Collecting jsonschema>=3.0 (from altair)\n",
      "  Using cached jsonschema-4.23.0-py3-none-any.whl.metadata (7.9 kB)\n",
      "Requirement already satisfied: numpy in c:\\users\\santosh_kumar_panda1\\appdata\\roaming\\python\\python310\\site-packages (from altair) (1.26.4)\n",
      "Requirement already satisfied: packaging in c:\\users\\santosh_kumar_panda1\\appdata\\roaming\\python\\python310\\site-packages (from altair) (24.0)\n",
      "Requirement already satisfied: pandas>=0.25 in c:\\users\\santosh_kumar_panda1\\appdata\\roaming\\python\\python310\\site-packages (from altair) (2.2.2)\n",
      "Collecting toolz (from altair)\n",
      "  Using cached toolz-0.12.1-py3-none-any.whl.metadata (5.1 kB)\n",
      "Requirement already satisfied: typing-extensions>=4.0.1 in c:\\users\\santosh_kumar_panda1\\appdata\\roaming\\python\\python310\\site-packages (from altair) (4.11.0)\n",
      "Collecting attrs>=22.2.0 (from jsonschema>=3.0->altair)\n",
      "  Using cached attrs-24.2.0-py3-none-any.whl.metadata (11 kB)\n",
      "Collecting jsonschema-specifications>=2023.03.6 (from jsonschema>=3.0->altair)\n",
      "  Using cached jsonschema_specifications-2023.12.1-py3-none-any.whl.metadata (3.0 kB)\n",
      "Collecting referencing>=0.28.4 (from jsonschema>=3.0->altair)\n",
      "  Using cached referencing-0.35.1-py3-none-any.whl.metadata (2.8 kB)\n",
      "Collecting rpds-py>=0.7.1 (from jsonschema>=3.0->altair)\n",
      "  Using cached rpds_py-0.20.0-cp310-none-win_amd64.whl.metadata (4.2 kB)\n",
      "Requirement already satisfied: python-dateutil>=2.8.2 in c:\\users\\santosh_kumar_panda1\\appdata\\roaming\\python\\python310\\site-packages (from pandas>=0.25->altair) (2.9.0.post0)\n",
      "Requirement already satisfied: pytz>=2020.1 in c:\\users\\santosh_kumar_panda1\\appdata\\roaming\\python\\python310\\site-packages (from pandas>=0.25->altair) (2024.1)\n",
      "Requirement already satisfied: tzdata>=2022.7 in c:\\users\\santosh_kumar_panda1\\appdata\\roaming\\python\\python310\\site-packages (from pandas>=0.25->altair) (2024.1)\n",
      "Requirement already satisfied: MarkupSafe>=2.0 in c:\\users\\santosh_kumar_panda1\\appdata\\roaming\\python\\python310\\site-packages (from jinja2->altair) (2.1.5)\n",
      "Requirement already satisfied: six>=1.5 in c:\\users\\santosh_kumar_panda1\\appdata\\roaming\\python\\python310\\site-packages (from python-dateutil>=2.8.2->pandas>=0.25->altair) (1.16.0)\n",
      "Using cached altair-5.3.0-py3-none-any.whl (857 kB)\n",
      "Using cached jsonschema-4.23.0-py3-none-any.whl (88 kB)\n",
      "Using cached toolz-0.12.1-py3-none-any.whl (56 kB)\n",
      "Using cached attrs-24.2.0-py3-none-any.whl (63 kB)\n",
      "Using cached jsonschema_specifications-2023.12.1-py3-none-any.whl (18 kB)\n",
      "Using cached referencing-0.35.1-py3-none-any.whl (26 kB)\n",
      "Using cached rpds_py-0.20.0-cp310-none-win_amd64.whl (213 kB)\n",
      "Installing collected packages: toolz, rpds-py, attrs, referencing, jsonschema-specifications, jsonschema, altair\n",
      "Successfully installed altair-5.3.0 attrs-24.2.0 jsonschema-4.23.0 jsonschema-specifications-2023.12.1 referencing-0.35.1 rpds-py-0.20.0 toolz-0.12.1\n"
     ]
    }
   ],
   "source": [
    "pip install altair"
   ]
  },
  {
   "cell_type": "code",
   "execution_count": 3,
   "metadata": {},
   "outputs": [
    {
     "data": {
      "text/html": [
       "\n",
       "<style>\n",
       "  #altair-viz-55d1bf5a8fd64894ac3f40e4cf62b1c4.vega-embed {\n",
       "    width: 100%;\n",
       "    display: flex;\n",
       "  }\n",
       "\n",
       "  #altair-viz-55d1bf5a8fd64894ac3f40e4cf62b1c4.vega-embed details,\n",
       "  #altair-viz-55d1bf5a8fd64894ac3f40e4cf62b1c4.vega-embed details summary {\n",
       "    position: relative;\n",
       "  }\n",
       "</style>\n",
       "<div id=\"altair-viz-55d1bf5a8fd64894ac3f40e4cf62b1c4\"></div>\n",
       "<script type=\"text/javascript\">\n",
       "  var VEGA_DEBUG = (typeof VEGA_DEBUG == \"undefined\") ? {} : VEGA_DEBUG;\n",
       "  (function(spec, embedOpt){\n",
       "    let outputDiv = document.currentScript.previousElementSibling;\n",
       "    if (outputDiv.id !== \"altair-viz-55d1bf5a8fd64894ac3f40e4cf62b1c4\") {\n",
       "      outputDiv = document.getElementById(\"altair-viz-55d1bf5a8fd64894ac3f40e4cf62b1c4\");\n",
       "    }\n",
       "    const paths = {\n",
       "      \"vega\": \"https://cdn.jsdelivr.net/npm/vega@5?noext\",\n",
       "      \"vega-lib\": \"https://cdn.jsdelivr.net/npm/vega-lib?noext\",\n",
       "      \"vega-lite\": \"https://cdn.jsdelivr.net/npm/vega-lite@5.17.0?noext\",\n",
       "      \"vega-embed\": \"https://cdn.jsdelivr.net/npm/vega-embed@6?noext\",\n",
       "    };\n",
       "\n",
       "    function maybeLoadScript(lib, version) {\n",
       "      var key = `${lib.replace(\"-\", \"\")}_version`;\n",
       "      return (VEGA_DEBUG[key] == version) ?\n",
       "        Promise.resolve(paths[lib]) :\n",
       "        new Promise(function(resolve, reject) {\n",
       "          var s = document.createElement('script');\n",
       "          document.getElementsByTagName(\"head\")[0].appendChild(s);\n",
       "          s.async = true;\n",
       "          s.onload = () => {\n",
       "            VEGA_DEBUG[key] = version;\n",
       "            return resolve(paths[lib]);\n",
       "          };\n",
       "          s.onerror = () => reject(`Error loading script: ${paths[lib]}`);\n",
       "          s.src = paths[lib];\n",
       "        });\n",
       "    }\n",
       "\n",
       "    function showError(err) {\n",
       "      outputDiv.innerHTML = `<div class=\"error\" style=\"color:red;\">${err}</div>`;\n",
       "      throw err;\n",
       "    }\n",
       "\n",
       "    function displayChart(vegaEmbed) {\n",
       "      vegaEmbed(outputDiv, spec, embedOpt)\n",
       "        .catch(err => showError(`Javascript Error: ${err.message}<br>This usually means there's a typo in your chart specification. See the javascript console for the full traceback.`));\n",
       "    }\n",
       "\n",
       "    if(typeof define === \"function\" && define.amd) {\n",
       "      requirejs.config({paths});\n",
       "      require([\"vega-embed\"], displayChart, err => showError(`Error loading script: ${err.message}`));\n",
       "    } else {\n",
       "      maybeLoadScript(\"vega\", \"5\")\n",
       "        .then(() => maybeLoadScript(\"vega-lite\", \"5.17.0\"))\n",
       "        .then(() => maybeLoadScript(\"vega-embed\", \"6\"))\n",
       "        .catch(showError)\n",
       "        .then(() => displayChart(vegaEmbed));\n",
       "    }\n",
       "  })({\"config\": {\"view\": {\"continuousWidth\": 300, \"continuousHeight\": 300}}, \"data\": {\"name\": \"data-dc7b083864cc26c5b80dfdd4a27d5cc6\"}, \"mark\": {\"type\": \"point\", \"shape\": \"M 0.5,0.05 0.2,0.9 0.95,0.3 0.05,0.3 0.8,0.9 Z\", \"size\": 200}, \"encoding\": {\"x\": {\"field\": \"data\", \"type\": \"ordinal\"}, \"y\": {\"axis\": null, \"field\": \"id\", \"sort\": \"descending\", \"type\": \"ordinal\"}}, \"transform\": [{\"window\": [{\"op\": \"rank\", \"field\": \"\", \"as\": \"id\"}], \"groupby\": [\"data\"]}], \"$schema\": \"https://vega.github.io/schema/vega-lite/v5.17.0.json\", \"datasets\": {\"data-dc7b083864cc26c5b80dfdd4a27d5cc6\": [{\"data\": 1}, {\"data\": 1}, {\"data\": 1}, {\"data\": 1}, {\"data\": 1}, {\"data\": 1}, {\"data\": 1}, {\"data\": 1}, {\"data\": 1}, {\"data\": 1}, {\"data\": 2}, {\"data\": 2}, {\"data\": 2}, {\"data\": 3}, {\"data\": 3}, {\"data\": 4}, {\"data\": 4}, {\"data\": 4}, {\"data\": 4}, {\"data\": 4}, {\"data\": 4}]}}, {\"mode\": \"vega-lite\"});\n",
       "</script>"
      ],
      "text/plain": [
       "alt.Chart(...)"
      ]
     },
     "execution_count": 3,
     "metadata": {},
     "output_type": "execute_result"
    }
   ],
   "source": [
    "import altair as alt\n",
    "import pandas as pd\n",
    "\n",
    "source = pd.DataFrame(\n",
    "    {\"data\":[1,1,1,1,1,1,1,1,1,1,\n",
    "             2,2,2,\n",
    "             3,3,\n",
    "             4,4,4,4,4,4]\n",
    "    }\n",
    ")\n",
    "\n",
    "star_shape = 'M 0.5,0.05 0.2,0.9 0.95,0.3 0.05,0.3 0.8,0.9 Z'\n",
    "alt.Chart(source).mark_point(shape=star_shape, size=200).transform_window(\n",
    "    id='rank()',\n",
    "    groupby=['data']\n",
    ").encode(\n",
    "    alt.X('data:O'),\n",
    "    alt.Y('id:O').axis(None).sort('descending')\n",
    ")"
   ]
  }
 ],
 "metadata": {
  "kernelspec": {
   "display_name": "Python 3",
   "language": "python",
   "name": "python3"
  },
  "language_info": {
   "codemirror_mode": {
    "name": "ipython",
    "version": 3
   },
   "file_extension": ".py",
   "mimetype": "text/x-python",
   "name": "python",
   "nbconvert_exporter": "python",
   "pygments_lexer": "ipython3",
   "version": "3.10.5"
  }
 },
 "nbformat": 4,
 "nbformat_minor": 2
}
