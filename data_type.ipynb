{
 "cells": [
  {
   "cell_type": "code",
   "execution_count": null,
   "metadata": {},
   "outputs": [],
   "source": [
    "string=\"abcdefgh\"\n",
    "print(\"length= \"+ str(len(string)))\n",
    "string[0]\n",
    "\n",
    "print(\"substring=\"+string[0:4])\n",
    "print(\"substring 4th char onwards=\"+string[4:])\n",
    "print(\"skice last 2 char=\"+string[:-2])\n",
    "print(\"replace substring=\"+string.replace('f','0'))\n",
    "print(\"replace substring=\"+string.replace('f','0').replace('0','f'))"
   ]
  },
  {
   "cell_type": "code",
   "execution_count": null,
   "metadata": {},
   "outputs": [],
   "source": [
    "#tuples are sequence of imutable python object\n",
    "weeks=(\"sunday\",\"monday\",\"tuesday\",\"wednessday\",\"thursday\",\"friday\",\"saturday\")\n",
    "type(weeks)\n",
    "print(weeks[0])\n",
    "weeks[6]=\"test\""
   ]
  },
  {
   "cell_type": "code",
   "execution_count": null,
   "metadata": {},
   "outputs": [],
   "source": [
    "#list are sequence of mutable python object\n",
    "salaries=[10000,15000,20000]\n",
    "type(salaries)\n",
    "salaries[0]=18000\n",
    "salaries\n",
    "salaries[0]=salaries[0]+100\n",
    "salaries[0]+=100\n",
    "salaries.append(28000)\n",
    "salaries\n",
    "mixed=[1,'a',1.5]\n",
    "mixed=[1,'a',1.5,[155,'b']]\n",
    "mixed=[1,'a',1.5,(155,'b')]\n",
    "mixed"
   ]
  },
  {
   "cell_type": "code",
   "execution_count": null,
   "metadata": {},
   "outputs": [],
   "source": [
    "#Dictionarys are hash tables\n",
    "#advantage over list is it allows to create in key value pair\n",
    "salaries={\"John\":1500,\"Jane\":1400,\"johny\":500}\n",
    "type(salaries)\n",
    "salaries['Jane']#may give index error \n",
    "salaries.get(\"John\",100)\n",
    "salaries.get(\"Harry\",500)\n"
   ]
  },
  {
   "cell_type": "code",
   "execution_count": null,
   "metadata": {},
   "outputs": [],
   "source": [
    "#Sets are unorder collection of mutable objects of unique values, not duplicate values\n",
    "s={}\n",
    "type(s)\n",
    "s=set()\n",
    "type(s)\n",
    "s.add(1)\n",
    "s.add(2)\n",
    "s.add(1)\n",
    "s\n",
    "1 in s\n",
    "\n"
   ]
  },
  {
   "cell_type": "code",
   "execution_count": null,
   "metadata": {},
   "outputs": [],
   "source": [
    "x=20\n",
    "if x<20:\n",
    "    print(\"x less then 20\")\n",
    "    if x<15:\n",
    "        print(\"x is less than 15\")\n",
    "    else:\n",
    "        print(\"x is greater than 15\")\n",
    "elif x==20:\n",
    "    print(\"x is equal to 20\")\n",
    "else:\n",
    "    print(\"x is greater than 20\")\n"
   ]
  },
  {
   "cell_type": "code",
   "execution_count": null,
   "metadata": {},
   "outputs": [],
   "source": [
    "a=10\n",
    "while a!=0:\n",
    "    print(a)\n",
    "    a-=1"
   ]
  },
  {
   "cell_type": "code",
   "execution_count": 53,
   "metadata": {},
   "outputs": [
    {
     "name": "stdout",
     "output_type": "stream",
     "text": [
      "0, 1, 2, 3, 4, 5, 6, 7, 8, 9, "
     ]
    }
   ],
   "source": [
    "for x in range(0,10):\n",
    "    print(x,end=\", \")"
   ]
  },
  {
   "cell_type": "code",
   "execution_count": 54,
   "metadata": {},
   "outputs": [
    {
     "name": "stdout",
     "output_type": "stream",
     "text": [
      "establish connection ftp://www.abc.org\n",
      "open connection\n",
      "download data\n",
      "log to DB ftp://www.abc.org\n",
      "close connection\n",
      "450\n",
      "30\n",
      "50\n"
     ]
    }
   ],
   "source": [
    "def downloadfile(url):\n",
    "    print(\"establish connection \"+url)\n",
    "    print(\"open connection\")\n",
    "    print(\"download data\")\n",
    "    print(\"log to DB \"+url)\n",
    "    print(\"close connection\")\n",
    "\n",
    "downloadfile(\"ftp://www.abc.org\")\n",
    "\n",
    "def multiply(x,y):\n",
    "    return x*y\n",
    "\n",
    "print(multiply(10,45))\n",
    "\n",
    "#lambda expression \n",
    "multyple=lambda x,y:x*y\n",
    "\n",
    "print(multyple(5,6))\n",
    "\n",
    "def createMultiplier(x):\n",
    "    return lambda y:x*y\n",
    "\n",
    "multi=createMultiplier(10)\n",
    "print(multi(5))"
   ]
  },
  {
   "cell_type": "code",
   "execution_count": 55,
   "metadata": {},
   "outputs": [
    {
     "ename": "FileExistsError",
     "evalue": "[Errno 17] File exists: 'sample.txt'",
     "output_type": "error",
     "traceback": [
      "\u001b[1;31m---------------------------------------------------------------------------\u001b[0m",
      "\u001b[1;31mFileExistsError\u001b[0m                           Traceback (most recent call last)",
      "Cell \u001b[1;32mIn[55], line 1\u001b[0m\n\u001b[1;32m----> 1\u001b[0m f \u001b[38;5;241m=\u001b[39m \u001b[38;5;28;43mopen\u001b[39;49m\u001b[43m(\u001b[49m\u001b[38;5;124;43m\"\u001b[39;49m\u001b[38;5;124;43msample.txt\u001b[39;49m\u001b[38;5;124;43m\"\u001b[39;49m\u001b[43m,\u001b[49m\u001b[38;5;124;43m'\u001b[39;49m\u001b[38;5;124;43mx\u001b[39;49m\u001b[38;5;124;43m'\u001b[39;49m\u001b[43m)\u001b[49m\n\u001b[0;32m      2\u001b[0m f\u001b[38;5;241m.\u001b[39mclose()\n",
      "File \u001b[1;32m~\\AppData\\Roaming\\Python\\Python310\\site-packages\\IPython\\core\\interactiveshell.py:324\u001b[0m, in \u001b[0;36m_modified_open\u001b[1;34m(file, *args, **kwargs)\u001b[0m\n\u001b[0;32m    317\u001b[0m \u001b[38;5;28;01mif\u001b[39;00m file \u001b[38;5;129;01min\u001b[39;00m {\u001b[38;5;241m0\u001b[39m, \u001b[38;5;241m1\u001b[39m, \u001b[38;5;241m2\u001b[39m}:\n\u001b[0;32m    318\u001b[0m     \u001b[38;5;28;01mraise\u001b[39;00m \u001b[38;5;167;01mValueError\u001b[39;00m(\n\u001b[0;32m    319\u001b[0m         \u001b[38;5;124mf\u001b[39m\u001b[38;5;124m\"\u001b[39m\u001b[38;5;124mIPython won\u001b[39m\u001b[38;5;124m'\u001b[39m\u001b[38;5;124mt let you open fd=\u001b[39m\u001b[38;5;132;01m{\u001b[39;00mfile\u001b[38;5;132;01m}\u001b[39;00m\u001b[38;5;124m by default \u001b[39m\u001b[38;5;124m\"\u001b[39m\n\u001b[0;32m    320\u001b[0m         \u001b[38;5;124m\"\u001b[39m\u001b[38;5;124mas it is likely to crash IPython. If you know what you are doing, \u001b[39m\u001b[38;5;124m\"\u001b[39m\n\u001b[0;32m    321\u001b[0m         \u001b[38;5;124m\"\u001b[39m\u001b[38;5;124myou can use builtins\u001b[39m\u001b[38;5;124m'\u001b[39m\u001b[38;5;124m open.\u001b[39m\u001b[38;5;124m\"\u001b[39m\n\u001b[0;32m    322\u001b[0m     )\n\u001b[1;32m--> 324\u001b[0m \u001b[38;5;28;01mreturn\u001b[39;00m io_open(file, \u001b[38;5;241m*\u001b[39margs, \u001b[38;5;241m*\u001b[39m\u001b[38;5;241m*\u001b[39mkwargs)\n",
      "\u001b[1;31mFileExistsError\u001b[0m: [Errno 17] File exists: 'sample.txt'"
     ]
    }
   ],
   "source": [
    "f = open(\"sample.txt\",'x')\n",
    "f.close()"
   ]
  },
  {
   "cell_type": "code",
   "execution_count": 56,
   "metadata": {},
   "outputs": [],
   "source": [
    "with open(\"sample.txt\",'w') as f:\n",
    "    f.write(\"sample line \\nsample line\")"
   ]
  },
  {
   "cell_type": "code",
   "execution_count": 57,
   "metadata": {},
   "outputs": [],
   "source": [
    "with open(\"sample.txt\",'a') as f:\n",
    "    f.write(\"sample line \\n\")"
   ]
  },
  {
   "cell_type": "code",
   "execution_count": 58,
   "metadata": {},
   "outputs": [
    {
     "name": "stdout",
     "output_type": "stream",
     "text": [
      "sample line \n",
      "sample linesample line \n"
     ]
    },
    {
     "ename": "TypeError",
     "evalue": "'int' object is not callable",
     "output_type": "error",
     "traceback": [
      "\u001b[1;31m---------------------------------------------------------------------------\u001b[0m",
      "\u001b[1;31mTypeError\u001b[0m                                 Traceback (most recent call last)",
      "Cell \u001b[1;32mIn[58], line 5\u001b[0m\n\u001b[0;32m      2\u001b[0m     \u001b[38;5;28;01mfor\u001b[39;00m l \u001b[38;5;129;01min\u001b[39;00m f\u001b[38;5;241m.\u001b[39mreadlines():\u001b[38;5;28mprint\u001b[39m(l,end\u001b[38;5;241m=\u001b[39m\u001b[38;5;124m\"\u001b[39m\u001b[38;5;124m\"\u001b[39m)\n\u001b[0;32m      4\u001b[0m x \u001b[38;5;241m=\u001b[39m \u001b[38;5;28mrange\u001b[39m(\u001b[38;5;241m10\u001b[39m) \n\u001b[1;32m----> 5\u001b[0m y \u001b[38;5;241m=\u001b[39m \u001b[38;5;28;43msum\u001b[39;49m\u001b[43m(\u001b[49m\u001b[43mx\u001b[49m\u001b[43m)\u001b[49m\n\u001b[0;32m      6\u001b[0m \u001b[38;5;28mprint\u001b[39m(y)\n",
      "\u001b[1;31mTypeError\u001b[0m: 'int' object is not callable"
     ]
    }
   ],
   "source": [
    "with open(\"sample.txt\",'r') as f:\n",
    "    for l in f.readlines():print(l,end=\"\")\n",
    "\n",
    "x = range(10) \n",
    "y = sum(x)\n",
    "print(y)\n",
    "\n"
   ]
  },
  {
   "cell_type": "markdown",
   "metadata": {},
   "source": [
    "importing numpy"
   ]
  },
  {
   "cell_type": "code",
   "execution_count": 64,
   "metadata": {},
   "outputs": [
    {
     "name": "stdout",
     "output_type": "stream",
     "text": [
      "[1 2 3]\n",
      "[[1 2 3]\n",
      " [4 5 6]]\n"
     ]
    }
   ],
   "source": [
    "#pip install numpy\n",
    "\n",
    "import numpy as np\n",
    "#1D array\n",
    "a=np.array([1,2,3])\n",
    "print(a)\n",
    "\n",
    "#2D array\n",
    "b=np.array([[1,2,3],[4,5,6]])\n",
    "print(b)"
   ]
  },
  {
   "cell_type": "code",
   "execution_count": 69,
   "metadata": {},
   "outputs": [
    {
     "data": {
      "text/plain": [
       "array([10, 12, 14, 16, 18])"
      ]
     },
     "execution_count": 69,
     "metadata": {},
     "output_type": "execute_result"
    }
   ],
   "source": [
    "np.arange(1,10,2)\n",
    "\n",
    "np.arange(10,20,2)"
   ]
  },
  {
   "cell_type": "code",
   "execution_count": 73,
   "metadata": {},
   "outputs": [
    {
     "data": {
      "text/plain": [
       "array([[0.25766487, 0.22883183, 0.47420441],\n",
       "       [0.33739127, 0.75215659, 0.49882726]])"
      ]
     },
     "execution_count": 73,
     "metadata": {},
     "output_type": "execute_result"
    }
   ],
   "source": [
    "#filling RANDOM numbers in array of dimension x X y\n",
    "np.random.random((2,3))"
   ]
  },
  {
   "cell_type": "code",
   "execution_count": 75,
   "metadata": {},
   "outputs": [
    {
     "data": {
      "text/plain": [
       "30"
      ]
     },
     "execution_count": 75,
     "metadata": {},
     "output_type": "execute_result"
    }
   ],
   "source": [
    "np.sum([10,20])"
   ]
  },
  {
   "cell_type": "code",
   "execution_count": 77,
   "metadata": {},
   "outputs": [
    {
     "data": {
      "text/plain": [
       "array([6, 8])"
      ]
     },
     "execution_count": 77,
     "metadata": {},
     "output_type": "execute_result"
    }
   ],
   "source": [
    "np.sum([[1,2],[5,6]],axis=0)"
   ]
  },
  {
   "cell_type": "code",
   "execution_count": 78,
   "metadata": {},
   "outputs": [
    {
     "data": {
      "text/plain": [
       "array([ 3, 11])"
      ]
     },
     "execution_count": 78,
     "metadata": {},
     "output_type": "execute_result"
    }
   ],
   "source": [
    "np.sum([[1,2],[5,6]],axis=1)"
   ]
  },
  {
   "cell_type": "code",
   "execution_count": 87,
   "metadata": {},
   "outputs": [
    {
     "name": "stdout",
     "output_type": "stream",
     "text": [
      "Exponent :  [  7.3890561   54.59815003 403.42879349]\n",
      "Square root :  [1.41421356 2.         2.44948974]\n",
      "Sin :  [ 0.90929743 -0.7568025  -0.2794155 ]\n",
      "Cos :  [-0.41614684 -0.65364362  0.96017029]\n",
      "Log :  [0.69314718 1.38629436 1.79175947]\n"
     ]
    }
   ],
   "source": [
    "#subtracting two num\n",
    "np.subtract(10,15)\n",
    "\n",
    "#muliplying two num\n",
    "np.multiply(2,3)\n",
    "\n",
    "#dividing two num\n",
    "np.divide(10,5)\n",
    "\n",
    "#diving tow arrys\n",
    "a=np.array([2,4,6])\n",
    "b=np.array([1,2,3])\n",
    "np.divide(a,b)\n",
    "\n",
    "#exp, sqrt, sin, cos, log\n",
    "print(\"Exponent : \",np.exp(a))\n",
    "print(\"Square root : \",np.sqrt(a))\n",
    "print(\"Sin : \",np.sin(a))\n",
    "print(\"Cos : \",np.cos(a))\n",
    "print(\"Log : \",np.log(a))"
   ]
  },
  {
   "cell_type": "code",
   "execution_count": 89,
   "metadata": {},
   "outputs": [
    {
     "name": "stdout",
     "output_type": "stream",
     "text": [
      "First Array: \n",
      " [[0 0 0]\n",
      " [1 2 3]\n",
      " [4 5 6]\n",
      " [5 6 7]] \n",
      "\n",
      "Second Array: \n",
      " [[0 1 2]] \n",
      "\n",
      "First Array + Second Array: \n",
      " [[0 1 2]\n",
      " [1 3 5]\n",
      " [4 6 8]\n",
      " [5 7 9]] \n",
      "\n"
     ]
    }
   ],
   "source": [
    "#concept of broad casting..\n",
    "import numpy as np\n",
    "a = np.array([[0,0,0],[1,2,3],[4,5,6],[5,6,7]])\n",
    "b = np.array([[0,1,2]])\n",
    "\n",
    "print(\"First Array: \\n\",a,'\\n')\n",
    "print(\"Second Array: \\n\",b,'\\n')\n",
    "print(\"First Array + Second Array: \\n\",a+b,'\\n')\n",
    "\n"
   ]
  },
  {
   "cell_type": "code",
   "execution_count": 95,
   "metadata": {},
   "outputs": [
    {
     "name": "stdout",
     "output_type": "stream",
     "text": [
      "[1, 2, 3, 4, 5, [6, 7, 8, 9]]\n"
     ]
    }
   ],
   "source": [
    "a = [1,2,3,4,5] \n",
    "b = [6,7,8,9]\n",
    "\n",
    "a.append(b)\n",
    "\n",
    "print(a)"
   ]
  },
  {
   "cell_type": "code",
   "execution_count": 101,
   "metadata": {},
   "outputs": [
    {
     "name": "stdout",
     "output_type": "stream",
     "text": [
      "[5, 11, 12]\n"
     ]
    }
   ],
   "source": [
    "def fun(x): \n",
    "    x[0] = 5 \n",
    "    return x\n",
    "\n",
    "g = [10,11,12]\n",
    "\n",
    "print(fun(g))\n",
    "\n",
    "tup = (1, 2, 3, 4, 5 ) "
   ]
  },
  {
   "cell_type": "code",
   "execution_count": 8,
   "metadata": {},
   "outputs": [
    {
     "name": "stdout",
     "output_type": "stream",
     "text": [
      "1715853253.6161554\n"
     ]
    }
   ],
   "source": [
    "import time\n",
    "\n",
    "X=range(100)\n",
    "t1=time.time()\n",
    "print(t1)"
   ]
  }
 ],
 "metadata": {
  "kernelspec": {
   "display_name": "Python 3",
   "language": "python",
   "name": "python3"
  },
  "language_info": {
   "codemirror_mode": {
    "name": "ipython",
    "version": 3
   },
   "file_extension": ".py",
   "mimetype": "text/x-python",
   "name": "python",
   "nbconvert_exporter": "python",
   "pygments_lexer": "ipython3",
   "version": "3.10.5"
  }
 },
 "nbformat": 4,
 "nbformat_minor": 2
}
