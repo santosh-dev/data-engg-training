{
 "cells": [
  {
   "cell_type": "code",
   "execution_count": 3,
   "metadata": {},
   "outputs": [
    {
     "name": "stdout",
     "output_type": "stream",
     "text": [
      "3.10.5\n"
     ]
    }
   ],
   "source": [
    "import platform\n",
    "print(platform.python_version())\n"
   ]
  },
  {
   "cell_type": "markdown",
   "metadata": {},
   "source": [
    "this is a function"
   ]
  },
  {
   "cell_type": "code",
   "execution_count": null,
   "metadata": {},
   "outputs": [],
   "source": [
    "def calculateSum(a,b):\n",
    "    global g #this is a sample of global variable\n",
    "    g=100\n",
    "    c=a+b\n",
    "    return c\n",
    "\n",
    "\"\"\"if __name__=='main':\n",
    "    main()\"\"\""
   ]
  },
  {
   "cell_type": "code",
   "execution_count": null,
   "metadata": {},
   "outputs": [],
   "source": [
    "a=20\n",
    "b=30\n",
    "\"\"\"multi \n",
    "line \n",
    "comments\"\"\"\n",
    "result=calculateSum(a,b)#this is how we invoke a function\n",
    "print('Result '+ str(result))\n",
    "print('Global value '+str(g))\n",
    "print('Function call '+str(calculateSum(a,b)))"
   ]
  },
  {
   "cell_type": "code",
   "execution_count": null,
   "metadata": {},
   "outputs": [],
   "source": [
    "#x=2\n",
    "#y=10\n",
    "\n",
    "x,y=2,10\n",
    "#loop\n",
    "for z in range (x,y):\n",
    "    if (z%2==0):\n",
    "        print(z)\n",
    "    else:\n",
    "        print('odd numbers'+str(z))"
   ]
  },
  {
   "cell_type": "code",
   "execution_count": null,
   "metadata": {},
   "outputs": [],
   "source": [
    "#List\n",
    "days=[\"mon\",\"tue\",\"wed\",\"thu\",\"fri\",\"sat\",\"sun\"]\n",
    "print(days) \n",
    "print(days[3])\n",
    "print(days[-3])\n",
    "print(days[2:4])\n",
    "\n",
    "if('sat' in days):\n",
    "    print('yes found day')\n",
    "\n",
    "days.sort()\n",
    "dup_days=days.copy()#copy the list to another\n",
    "print (days)\n",
    "\n",
    "for day in dup_days:\n",
    "    print(day)\n",
    "\n",
    "print(len(days))\n",
    "days.reverse()\n",
    "print(days)"
   ]
  },
  {
   "cell_type": "code",
   "execution_count": null,
   "metadata": {},
   "outputs": [],
   "source": [
    "#tuple- tuple is more faster than list\n",
    "#tuple are imutable\n",
    "days=(\"mon\",\"tue\",\"wed\",\"thu\",\"fri\")\n",
    "print(days) \n",
    "print(days[3])\n",
    "print(days[-3])\n",
    "print(days[2:4])\n",
    "\n",
    "for x in days:\n",
    "    print(x)\n",
    "\n",
    "missing_days=(\"sat\",\"sun\")\n",
    "days+=missing_days\n",
    "\n",
    "print(days)"
   ]
  },
  {
   "cell_type": "code",
   "execution_count": null,
   "metadata": {},
   "outputs": [],
   "source": [
    "#main function implemanetaion using OOPS concept\n",
    "def fun1():\n",
    "    print('inside fun1')\n",
    "\n",
    "def fun2():\n",
    "    print('inside fun2')\n",
    "\n",
    "def main():\n",
    "    print('inside main')\n",
    "    fun1()\n",
    "    fun2()\n",
    "\n",
    "if __name__=='__main__':\n",
    "    main()"
   ]
  },
  {
   "cell_type": "code",
   "execution_count": null,
   "metadata": {},
   "outputs": [],
   "source": [
    "techstack={\"Python\",\"SQL\",\"NOSQL\",False,10,39.20}#sets\n",
    "print(techstack)\n",
    "techstack.add(90.9222)\n",
    "techstack.add(\"Starburst\")\n",
    "\n",
    "#vertical order print\n",
    "for x in techstack:\n",
    "    print(x)\n",
    "\n",
    "#horizontal order print\n",
    "for x in techstack:\n",
    "    print(x,end=\"|\")\n",
    "\n",
    "print(\"02\",\"05\",\"2024\",sep=\"/\")\n",
    "\n",
    "rating={182,1727,182,1828}\n",
    "techstack.update(rating)\n",
    "print(techstack)\n",
    "\n",
    "techstack.remove(\"SQL\")\n",
    "print(techstack)"
   ]
  },
  {
   "cell_type": "code",
   "execution_count": null,
   "metadata": {},
   "outputs": [],
   "source": [
    "#dictionary\n",
    "employee={\"firstname\":\"john\",\"lastname\":\"mathew\",\"age\":35,\"netsalary\":25000}\n",
    "\n",
    "print(employee[\"lastname\"])\n",
    "for e in employee:\n",
    "    print(e,end=\" \")\n",
    "\n",
    "employee.update({\"age\":38})\n",
    "print(employee[\"age\"])\n",
    "\n",
    "employeelist=[{\"firstname\":\"john\",\"lastname\":\"mathew\",\"age\":35,\"netsalary\":25000},\n",
    "              {\"firstname\":\"david\",\"lastname\":\"warner\",\"age\":45,\"netsalary\":35000}]\n"
   ]
  },
  {
   "cell_type": "code",
   "execution_count": null,
   "metadata": {},
   "outputs": [],
   "source": [
    "#class\n",
    "class Employee:\n",
    "    fname=\"test\"\n",
    "    lanme=\"\"\n",
    "    age=45\n",
    "     #constructor\n",
    "    def __init__(self):\n",
    "        #self.fname=\"\"\n",
    "        #self.lname=\"\"\n",
    "        self.age=45\n",
    "\n",
    "    #@classmethod\n",
    "    def setEmployee(fname,lname,age):\n",
    "        self.fname=fname\n",
    "        self.lname=lname\n",
    "        self.age=age\n",
    "\n",
    "    @staticmethod\n",
    "    def checkIfAgeAbove30(age):\n",
    "        if age>30:\n",
    "            print('Age above 30')\n",
    "        else:\n",
    "            print('Less than 30')            \n",
    "        \n",
    "    \n",
    "    def displayEmployee(self):\n",
    "        print(self.fname,self.lname,self.age,sep=\"|\")   \n"
   ]
  },
  {
   "cell_type": "code",
   "execution_count": null,
   "metadata": {},
   "outputs": [],
   "source": [
    "employee=Employee()\n",
    "#employee.setEmployee(\"John\",\"Miller\",38)\n",
    "#employee.displayEmployee()\n",
    "Employee.checkIfAgeAbove30(employee.age)\n",
    "print(employee.fname)"
   ]
  },
  {
   "cell_type": "code",
   "execution_count": null,
   "metadata": {},
   "outputs": [],
   "source": [
    "teammst=[78,999,89]\n",
    "for x in teammst:\n",
    "    print(x)"
   ]
  },
  {
   "cell_type": "markdown",
   "metadata": {},
   "source": [
    "pkg for invoking HTTP API"
   ]
  },
  {
   "cell_type": "code",
   "execution_count": null,
   "metadata": {},
   "outputs": [],
   "source": [
    "pip install requests"
   ]
  },
  {
   "cell_type": "code",
   "execution_count": 3,
   "metadata": {},
   "outputs": [
    {
     "name": "stdout",
     "output_type": "stream",
     "text": [
      "{'time': {'updated': 'May 3, 2024 04:55:52 UTC', 'updatedISO': '2024-05-03T04:55:52+00:00', 'updateduk': 'May 3, 2024 at 05:55 BST'}, 'disclaimer': 'This data was produced from the CoinDesk Bitcoin Price Index (USD). Non-USD currency data converted using hourly conversion rate from openexchangerates.org', 'chartName': 'Bitcoin', 'bpi': {'USD': {'code': 'USD', 'symbol': '&#36;', 'rate': '59,626.328', 'description': 'United States Dollar', 'rate_float': 59626.3275}, 'GBP': {'code': 'GBP', 'symbol': '&pound;', 'rate': '47,501.493', 'description': 'British Pound Sterling', 'rate_float': 47501.4927}, 'EUR': {'code': 'EUR', 'symbol': '&euro;', 'rate': '55,544.25', 'description': 'Euro', 'rate_float': 55544.2495}}}\n"
     ]
    }
   ],
   "source": [
    "import requests\n",
    "url='https://api.coindesk.com/v1/bpi/currentprice.json'\n",
    "resp=requests.get(url)#HTTP VERB GET \n",
    "\n",
    "print(resp.json())\n"
   ]
  },
  {
   "cell_type": "code",
   "execution_count": 6,
   "metadata": {},
   "outputs": [
    {
     "name": "stdout",
     "output_type": "stream",
     "text": [
      "71\n"
     ]
    }
   ],
   "source": [
    "def increment(x):\n",
    "    return x+21\n",
    "\n",
    "print(increment(50))\n",
    "\n",
    "#x=lambda x:x+20"
   ]
  },
  {
   "cell_type": "code",
   "execution_count": 1,
   "metadata": {},
   "outputs": [
    {
     "name": "stdout",
     "output_type": "stream",
     "text": [
      "8\n"
     ]
    }
   ],
   "source": [
    "print(2**3)"
   ]
  }
 ],
 "metadata": {
  "kernelspec": {
   "display_name": "Python 3",
   "language": "python",
   "name": "python3"
  },
  "language_info": {
   "codemirror_mode": {
    "name": "ipython",
    "version": 3
   },
   "file_extension": ".py",
   "mimetype": "text/x-python",
   "name": "python",
   "nbconvert_exporter": "python",
   "pygments_lexer": "ipython3",
   "version": "3.10.5"
  }
 },
 "nbformat": 4,
 "nbformat_minor": 2
}
