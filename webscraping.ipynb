{
 "cells": [
  {
   "cell_type": "code",
   "execution_count": 1,
   "metadata": {},
   "outputs": [
    {
     "name": "stdout",
     "output_type": "stream",
     "text": [
      "Defaulting to user installation because normal site-packages is not writeable\n",
      "Collecting html5lib\n",
      "  Downloading html5lib-1.1-py2.py3-none-any.whl (112 kB)\n",
      "     ------------------------------------ 112.2/112.2 KB 433.8 kB/s eta 0:00:00\n",
      "Requirement already satisfied: six>=1.9 in c:\\users\\santosh_kumar_panda1\\appdata\\roaming\\python\\python310\\site-packages (from html5lib) (1.16.0)\n",
      "Collecting webencodings\n",
      "  Downloading webencodings-0.5.1-py2.py3-none-any.whl (11 kB)\n",
      "Installing collected packages: webencodings, html5lib\n",
      "Successfully installed html5lib-1.1 webencodings-0.5.1\n",
      "Note: you may need to restart the kernel to use updated packages.\n"
     ]
    },
    {
     "name": "stderr",
     "output_type": "stream",
     "text": [
      "WARNING: You are using pip version 22.0.4; however, version 24.0 is available.\n",
      "You should consider upgrading via the 'c:\\Program Files\\Python310\\python.exe -m pip install --upgrade pip' command.\n"
     ]
    }
   ],
   "source": [
    "pip install html5lib"
   ]
  },
  {
   "cell_type": "code",
   "execution_count": 2,
   "metadata": {},
   "outputs": [
    {
     "name": "stdout",
     "output_type": "stream",
     "text": [
      "Defaulting to user installation because normal site-packages is not writeable\n",
      "Collecting bs4\n",
      "  Downloading bs4-0.0.2-py2.py3-none-any.whl (1.2 kB)\n",
      "Collecting beautifulsoup4\n",
      "  Downloading beautifulsoup4-4.12.3-py3-none-any.whl (147 kB)\n",
      "     ------------------------------------ 147.9/147.9 KB 805.2 kB/s eta 0:00:00\n",
      "Collecting soupsieve>1.2\n",
      "  Downloading soupsieve-2.5-py3-none-any.whl (36 kB)\n",
      "Installing collected packages: soupsieve, beautifulsoup4, bs4\n",
      "Successfully installed beautifulsoup4-4.12.3 bs4-0.0.2 soupsieve-2.5\n",
      "Note: you may need to restart the kernel to use updated packages.\n"
     ]
    },
    {
     "name": "stderr",
     "output_type": "stream",
     "text": [
      "WARNING: You are using pip version 22.0.4; however, version 24.0 is available.\n",
      "You should consider upgrading via the 'c:\\Program Files\\Python310\\python.exe -m pip install --upgrade pip' command.\n"
     ]
    }
   ],
   "source": [
    "pip install bs4"
   ]
  },
  {
   "cell_type": "code",
   "execution_count": 13,
   "metadata": {},
   "outputs": [
    {
     "name": "stdout",
     "output_type": "stream",
     "text": [
      "Defaulting to user installation because normal site-packages is not writeable\n",
      "Requirement already satisfied: matplotlib in c:\\users\\santosh_kumar_panda1\\appdata\\roaming\\python\\python310\\site-packages (3.9.0)\n",
      "Requirement already satisfied: packaging>=20.0 in c:\\users\\santosh_kumar_panda1\\appdata\\roaming\\python\\python310\\site-packages (from matplotlib) (24.0)\n",
      "Requirement already satisfied: fonttools>=4.22.0 in c:\\users\\santosh_kumar_panda1\\appdata\\roaming\\python\\python310\\site-packages (from matplotlib) (4.51.0)\n",
      "Requirement already satisfied: kiwisolver>=1.3.1 in c:\\users\\santosh_kumar_panda1\\appdata\\roaming\\python\\python310\\site-packages (from matplotlib) (1.4.5)\n",
      "Requirement already satisfied: cycler>=0.10 in c:\\users\\santosh_kumar_panda1\\appdata\\roaming\\python\\python310\\site-packages (from matplotlib) (0.12.1)\n",
      "Requirement already satisfied: python-dateutil>=2.7 in c:\\users\\santosh_kumar_panda1\\appdata\\roaming\\python\\python310\\site-packages (from matplotlib) (2.9.0.post0)\n",
      "Requirement already satisfied: pyparsing>=2.3.1 in c:\\users\\santosh_kumar_panda1\\appdata\\roaming\\python\\python310\\site-packages (from matplotlib) (3.1.2)\n",
      "Requirement already satisfied: contourpy>=1.0.1 in c:\\users\\santosh_kumar_panda1\\appdata\\roaming\\python\\python310\\site-packages (from matplotlib) (1.2.1)\n",
      "Requirement already satisfied: numpy>=1.23 in c:\\users\\santosh_kumar_panda1\\appdata\\roaming\\python\\python310\\site-packages (from matplotlib) (1.26.4)\n",
      "Requirement already satisfied: pillow>=8 in c:\\users\\santosh_kumar_panda1\\appdata\\roaming\\python\\python310\\site-packages (from matplotlib) (10.3.0)\n",
      "Requirement already satisfied: six>=1.5 in c:\\users\\santosh_kumar_panda1\\appdata\\roaming\\python\\python310\\site-packages (from python-dateutil>=2.7->matplotlib) (1.16.0)\n",
      "Note: you may need to restart the kernel to use updated packages.\n"
     ]
    },
    {
     "name": "stderr",
     "output_type": "stream",
     "text": [
      "WARNING: You are using pip version 22.0.4; however, version 24.0 is available.\n",
      "You should consider upgrading via the 'c:\\Program Files\\Python310\\python.exe -m pip install --upgrade pip' command.\n"
     ]
    }
   ],
   "source": [
    "pip install matplotlib"
   ]
  },
  {
   "cell_type": "code",
   "execution_count": 15,
   "metadata": {},
   "outputs": [
    {
     "ename": "SyntaxError",
     "evalue": "invalid decimal literal (2935780905.py, line 17)",
     "output_type": "error",
     "traceback": [
      "\u001b[1;36m  Cell \u001b[1;32mIn[15], line 17\u001b[1;36m\u001b[0m\n\u001b[1;33m    url = 'https://urldefense.com/v3/__https://www.ncei.noaa.gov/data/local-climatological-data/access/2021/'*5Cn__;JQ!!LpKI!jMKv-jmscd-rnbj8bGniLqh7jE8cPMWzxkA6rCXM9lolUMqq-W0UWJdUefYeDW2sbvHF8I5AmBNbAJMAGYTVZcG8YtQ$ [ncei[.]noaa[.]gov]\u001b[0m\n\u001b[1;37m                                                                                                              ^\u001b[0m\n\u001b[1;31mSyntaxError\u001b[0m\u001b[1;31m:\u001b[0m invalid decimal literal\n"
     ]
    }
   ],
   "source": [
    "#standard imports\n",
    "import pandas as pd\n",
    "\n",
    "#web scraping imports\n",
    "import requests\n",
    "import urllib.request\n",
    "from bs4 import BeautifulSoup\n",
    "\n",
    "#for performing regex operations\n",
    "import re\n",
    "\n",
    "#for data visualtization\n",
    "import seaborn as sns\n",
    "import matplotlib.pyplot as mp\n",
    "\n",
    "# Save the URL of the webpage we want to scrape to a variable\n",
    "url = 'https://urldefense.com/v3/__https://www.ncei.noaa.gov/data/local-climatological-data/access/2021/'*5Cn__;JQ!!LpKI!jMKv-jmscd-rnbj8bGniLqh7jE8cPMWzxkA6rCXM9lolUMqq-W0UWJdUefYeDW2sbvHF8I5AmBNbAJMAGYTVZcG8YtQ$ [ncei[.]noaa[.]gov]\n",
    "\n",
    "response = requests.get(url)\n",
    "\n",
    "# Turn the undecoded content into a Beautiful Soup object and assign it to a variable\n",
    "try:\n",
    "    soup = BeautifulSoup(response.content, 'html5lib') # If this line causes an error, run 'pip install html5lib' or install html5lib \n",
    "    print(soup.prettify())\n",
    "except Exception as error:\n",
    "    print(error)"
   ]
  },
  {
   "cell_type": "code",
   "execution_count": 16,
   "metadata": {},
   "outputs": [
    {
     "ename": "NameError",
     "evalue": "name 'soup' is not defined",
     "output_type": "error",
     "traceback": [
      "\u001b[1;31m---------------------------------------------------------------------------\u001b[0m",
      "\u001b[1;31mNameError\u001b[0m                                 Traceback (most recent call last)",
      "Cell \u001b[1;32mIn[16], line 5\u001b[0m\n\u001b[0;32m      1\u001b[0m \u001b[38;5;28;01mimport\u001b[39;00m \u001b[38;5;21;01mcsv\u001b[39;00m\n\u001b[0;32m      3\u001b[0m weathers \u001b[38;5;241m=\u001b[39m []\n\u001b[1;32m----> 5\u001b[0m table \u001b[38;5;241m=\u001b[39m \u001b[43msoup\u001b[49m\u001b[38;5;241m.\u001b[39mfind(\u001b[38;5;124m'\u001b[39m\u001b[38;5;124mdiv\u001b[39m\u001b[38;5;124m'\u001b[39m,attrs \u001b[38;5;241m=\u001b[39m {\u001b[38;5;124m'\u001b[39m\u001b[38;5;124mid\u001b[39m\u001b[38;5;124m'\u001b[39m:\u001b[38;5;124m'\u001b[39m\u001b[38;5;124mall_weather\u001b[39m\u001b[38;5;124m'\u001b[39m})\n\u001b[0;32m      6\u001b[0m \u001b[38;5;28;01mfor\u001b[39;00m row \u001b[38;5;129;01min\u001b[39;00m table\u001b[38;5;241m.\u001b[39mfindAll(\u001b[38;5;124m'\u001b[39m\u001b[38;5;124mdiv\u001b[39m\u001b[38;5;124m'\u001b[39m, \n\u001b[0;32m      7\u001b[0m                          attrs \u001b[38;5;241m=\u001b[39m {\u001b[38;5;124m'\u001b[39m\u001b[38;5;124mclass\u001b[39m\u001b[38;5;124m'\u001b[39m:\u001b[38;5;124m'\u001b[39m\u001b[38;5;124mcol-6 col-lg-3 text-center margin-30px-bottom sm-margin-30px-top\u001b[39m\u001b[38;5;124m'\u001b[39m}):\n\u001b[0;32m      8\u001b[0m     weather \u001b[38;5;241m=\u001b[39m {} \n",
      "\u001b[1;31mNameError\u001b[0m: name 'soup' is not defined"
     ]
    }
   ],
   "source": [
    "import csv\n",
    "\n",
    "weathers = []\n",
    "\n",
    "table = soup.find('div',attrs = {'id':'all_weather'})\n",
    "for row in table.findAll('div', \n",
    "                         attrs = {'class':'col-6 col-lg-3 text-center margin-30px-bottom sm-margin-30px-top'}):\n",
    "    weather = {} \n",
    "    weather['theme'] = row.h5.text \n",
    "    weather['url'] = row.a['href'] \n",
    "    weather['img'] = row.img['src'] \n",
    "    weather['lines'] = row.img['alt'].split(\" #\")[0] \n",
    "    weather['author'] = row.img['alt'].split(\" #\")[1] \n",
    "    weathers.append(weather) \n",
    "\n",
    "filename = 'weather_data.csv'\n",
    "with open(filename, 'w', newline='') as f: \n",
    "    w = csv.DictWriter(f,['theme','url','img','lines','author']) \n",
    "    w.writeheader() \n",
    "    for weather in weathers: \n",
    "        w.writerow(weather) "
   ]
  }
 ],
 "metadata": {
  "kernelspec": {
   "display_name": "Python 3",
   "language": "python",
   "name": "python3"
  },
  "language_info": {
   "codemirror_mode": {
    "name": "ipython",
    "version": 3
   },
   "file_extension": ".py",
   "mimetype": "text/x-python",
   "name": "python",
   "nbconvert_exporter": "python",
   "pygments_lexer": "ipython3",
   "version": "3.10.5"
  }
 },
 "nbformat": 4,
 "nbformat_minor": 2
}
