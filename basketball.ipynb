{
 "cells": [
  {
   "cell_type": "code",
   "execution_count": null,
   "metadata": {},
   "outputs": [],
   "source": [
    "pip install pandas"
   ]
  },
  {
   "cell_type": "code",
   "execution_count": null,
   "metadata": {},
   "outputs": [],
   "source": [
    "\"\"\"pip install requests\n",
    "pip install html5lib\n",
    "pip install bs4\"\"\"\n",
    "#pip install beautifulsoup4\n",
    "\"\"\"pip install faker\n",
    "pip install numpy\"\"\""
   ]
  },
  {
   "cell_type": "code",
   "execution_count": null,
   "metadata": {},
   "outputs": [],
   "source": [
    "import pandas as pd\n",
    "\n",
    "url = 'https://www.basketball-reference.com/leagues/NBA_2022.html'\n",
    "\n",
    "df = pd.read_html(url,header=0)\n",
    "\n",
    "display(df)"
   ]
  },
  {
   "cell_type": "code",
   "execution_count": null,
   "metadata": {},
   "outputs": [],
   "source": [
    "pip install lxml"
   ]
  },
  {
   "cell_type": "code",
   "execution_count": 4,
   "metadata": {},
   "outputs": [
    {
     "name": "stdout",
     "output_type": "stream",
     "text": [
      "Note: you may need to restart the kernel to use updated packages.Defaulting to user installation because normal site-packages is not writeable\n",
      "Collecting faker\n",
      "  Downloading Faker-25.2.0-py3-none-any.whl (1.8 MB)\n",
      "     ---------------------------------------- 1.8/1.8 MB 2.0 MB/s eta 0:00:00\n",
      "Requirement already satisfied: python-dateutil>=2.4 in c:\\users\\santosh_kumar_panda1\\appdata\\roaming\\python\\python310\\site-packages (from faker) (2.9.0.post0)\n",
      "Requirement already satisfied: six>=1.5 in c:\\users\\santosh_kumar_panda1\\appdata\\roaming\\python\\python310\\site-packages (from python-dateutil>=2.4->faker) (1.16.0)\n",
      "Installing collected packages: faker\n",
      "Successfully installed faker-25.2.0\n",
      "\n"
     ]
    },
    {
     "name": "stderr",
     "output_type": "stream",
     "text": [
      "WARNING: You are using pip version 22.0.4; however, version 24.0 is available.\n",
      "You should consider upgrading via the 'c:\\Program Files\\Python310\\python.exe -m pip install --upgrade pip' command.\n"
     ]
    }
   ],
   "source": [
    "pip install faker"
   ]
  },
  {
   "cell_type": "code",
   "execution_count": 5,
   "metadata": {},
   "outputs": [
    {
     "name": "stdout",
     "output_type": "stream",
     "text": [
      "Defaulting to user installation because normal site-packages is not writeable\n",
      "Requirement already satisfied: numpy in c:\\users\\santosh_kumar_panda1\\appdata\\roaming\\python\\python310\\site-packages (1.26.4)\n",
      "Note: you may need to restart the kernel to use updated packages.\n"
     ]
    },
    {
     "name": "stderr",
     "output_type": "stream",
     "text": [
      "WARNING: You are using pip version 22.0.4; however, version 24.0 is available.\n",
      "You should consider upgrading via the 'c:\\Program Files\\Python310\\python.exe -m pip install --upgrade pip' command.\n"
     ]
    }
   ],
   "source": [
    "pip install numpy"
   ]
  },
  {
   "cell_type": "code",
   "execution_count": 43,
   "metadata": {},
   "outputs": [
    {
     "data": {
      "text/html": [
       "<div>\n",
       "<style scoped>\n",
       "    .dataframe tbody tr th:only-of-type {\n",
       "        vertical-align: middle;\n",
       "    }\n",
       "\n",
       "    .dataframe tbody tr th {\n",
       "        vertical-align: top;\n",
       "    }\n",
       "\n",
       "    .dataframe thead th {\n",
       "        text-align: right;\n",
       "    }\n",
       "</style>\n",
       "<table border=\"1\" class=\"dataframe\">\n",
       "  <thead>\n",
       "    <tr style=\"text-align: right;\">\n",
       "      <th></th>\n",
       "      <th>CustomerName</th>\n",
       "      <th>Age</th>\n",
       "      <th>Works at</th>\n",
       "      <th>Email</th>\n",
       "      <th>Address</th>\n",
       "      <th>Phone</th>\n",
       "    </tr>\n",
       "  </thead>\n",
       "  <tbody>\n",
       "    <tr>\n",
       "      <th>0</th>\n",
       "      <td>April Morgan</td>\n",
       "      <td>40</td>\n",
       "      <td>Henderson-Aguirre</td>\n",
       "      <td>lyonsdavid@example.org</td>\n",
       "      <td>PSC 7665, Box 8378\\nAPO AE 68068</td>\n",
       "      <td>601-292-6675</td>\n",
       "    </tr>\n",
       "    <tr>\n",
       "      <th>1</th>\n",
       "      <td>Ryan Yang</td>\n",
       "      <td>61</td>\n",
       "      <td>Moran-Franco</td>\n",
       "      <td>bassryan@example.com</td>\n",
       "      <td>8900 Christian Neck Suite 646\\nJoshuabury, IN ...</td>\n",
       "      <td>001-590-628-8073x96475</td>\n",
       "    </tr>\n",
       "    <tr>\n",
       "      <th>2</th>\n",
       "      <td>Lindsay Rodriguez</td>\n",
       "      <td>26</td>\n",
       "      <td>Roberts and Sons</td>\n",
       "      <td>carrilloteresa@example.org</td>\n",
       "      <td>1798 Rowe Pike\\nSouth Roberttown, OR 30010</td>\n",
       "      <td>+1-581-657-2228</td>\n",
       "    </tr>\n",
       "    <tr>\n",
       "      <th>3</th>\n",
       "      <td>Carolyn Lynch</td>\n",
       "      <td>28</td>\n",
       "      <td>Sanchez-Taylor</td>\n",
       "      <td>christopherdunn@example.org</td>\n",
       "      <td>346 Russell Trail Suite 355\\nChristinaside, AR...</td>\n",
       "      <td>2268311284</td>\n",
       "    </tr>\n",
       "    <tr>\n",
       "      <th>4</th>\n",
       "      <td>Ashley Smith</td>\n",
       "      <td>96</td>\n",
       "      <td>Martin-Smith</td>\n",
       "      <td>dianaboyer@example.com</td>\n",
       "      <td>1601 Davis Causeway\\nLake Sergiotown, VA 78759</td>\n",
       "      <td>520-388-5275x637</td>\n",
       "    </tr>\n",
       "    <tr>\n",
       "      <th>...</th>\n",
       "      <td>...</td>\n",
       "      <td>...</td>\n",
       "      <td>...</td>\n",
       "      <td>...</td>\n",
       "      <td>...</td>\n",
       "      <td>...</td>\n",
       "    </tr>\n",
       "    <tr>\n",
       "      <th>95</th>\n",
       "      <td>Robert Wheeler</td>\n",
       "      <td>71</td>\n",
       "      <td>Thompson, Yates and Becker</td>\n",
       "      <td>eric84@example.com</td>\n",
       "      <td>50802 Moran Rapid Suite 844\\nEast Kevin, MO 32016</td>\n",
       "      <td>606.700.5539x752</td>\n",
       "    </tr>\n",
       "    <tr>\n",
       "      <th>96</th>\n",
       "      <td>Danielle Thomas</td>\n",
       "      <td>81</td>\n",
       "      <td>Peterson-Foley</td>\n",
       "      <td>philipmedina@example.org</td>\n",
       "      <td>0495 Collins Bridge Suite 141\\nSchmidtland, KY...</td>\n",
       "      <td>(733)764-4701x9621</td>\n",
       "    </tr>\n",
       "    <tr>\n",
       "      <th>97</th>\n",
       "      <td>Melanie Moyer</td>\n",
       "      <td>92</td>\n",
       "      <td>Peters, Dudley and Watts</td>\n",
       "      <td>michelerose@example.com</td>\n",
       "      <td>281 April Circles\\nSouth Jeffreyberg, WV 10649</td>\n",
       "      <td>001-322-312-1882</td>\n",
       "    </tr>\n",
       "    <tr>\n",
       "      <th>98</th>\n",
       "      <td>Curtis Sullivan</td>\n",
       "      <td>49</td>\n",
       "      <td>Nash Inc</td>\n",
       "      <td>roger12@example.org</td>\n",
       "      <td>72480 Heather Plaza\\nNorth Stephanieborough, G...</td>\n",
       "      <td>459.505.1069</td>\n",
       "    </tr>\n",
       "    <tr>\n",
       "      <th>99</th>\n",
       "      <td>Elizabeth Ortega</td>\n",
       "      <td>40</td>\n",
       "      <td>Mann, Sharp and Thomas</td>\n",
       "      <td>bfrench@example.org</td>\n",
       "      <td>71209 Kathy Rue\\nHernandezchester, KS 93949</td>\n",
       "      <td>479-860-8211</td>\n",
       "    </tr>\n",
       "  </tbody>\n",
       "</table>\n",
       "<p>100 rows × 6 columns</p>\n",
       "</div>"
      ],
      "text/plain": [
       "         CustomerName  Age                    Works at  \\\n",
       "0        April Morgan   40           Henderson-Aguirre   \n",
       "1           Ryan Yang   61                Moran-Franco   \n",
       "2   Lindsay Rodriguez   26            Roberts and Sons   \n",
       "3       Carolyn Lynch   28              Sanchez-Taylor   \n",
       "4        Ashley Smith   96                Martin-Smith   \n",
       "..                ...  ...                         ...   \n",
       "95     Robert Wheeler   71  Thompson, Yates and Becker   \n",
       "96    Danielle Thomas   81              Peterson-Foley   \n",
       "97      Melanie Moyer   92    Peters, Dudley and Watts   \n",
       "98    Curtis Sullivan   49                    Nash Inc   \n",
       "99   Elizabeth Ortega   40      Mann, Sharp and Thomas   \n",
       "\n",
       "                          Email  \\\n",
       "0        lyonsdavid@example.org   \n",
       "1          bassryan@example.com   \n",
       "2    carrilloteresa@example.org   \n",
       "3   christopherdunn@example.org   \n",
       "4        dianaboyer@example.com   \n",
       "..                          ...   \n",
       "95           eric84@example.com   \n",
       "96     philipmedina@example.org   \n",
       "97      michelerose@example.com   \n",
       "98          roger12@example.org   \n",
       "99          bfrench@example.org   \n",
       "\n",
       "                                              Address                   Phone  \n",
       "0                    PSC 7665, Box 8378\\nAPO AE 68068            601-292-6675  \n",
       "1   8900 Christian Neck Suite 646\\nJoshuabury, IN ...  001-590-628-8073x96475  \n",
       "2          1798 Rowe Pike\\nSouth Roberttown, OR 30010         +1-581-657-2228  \n",
       "3   346 Russell Trail Suite 355\\nChristinaside, AR...              2268311284  \n",
       "4      1601 Davis Causeway\\nLake Sergiotown, VA 78759        520-388-5275x637  \n",
       "..                                                ...                     ...  \n",
       "95  50802 Moran Rapid Suite 844\\nEast Kevin, MO 32016        606.700.5539x752  \n",
       "96  0495 Collins Bridge Suite 141\\nSchmidtland, KY...      (733)764-4701x9621  \n",
       "97     281 April Circles\\nSouth Jeffreyberg, WV 10649        001-322-312-1882  \n",
       "98  72480 Heather Plaza\\nNorth Stephanieborough, G...            459.505.1069  \n",
       "99        71209 Kathy Rue\\nHernandezchester, KS 93949            479-860-8211  \n",
       "\n",
       "[100 rows x 6 columns]"
      ]
     },
     "metadata": {},
     "output_type": "display_data"
    }
   ],
   "source": [
    "from faker import Faker\n",
    "import pandas as pd\n",
    "import numpy as np\n",
    "\n",
    "fakeCustomerData = Faker()\n",
    "\n",
    "customerNames = []\n",
    "customerCompany = []\n",
    "customerEmail = []\n",
    "customerAge = []\n",
    "customerAddress = []\n",
    "customerPhone = []\n",
    "\n",
    "for x in range(100):\n",
    "    customerNames.append(fakeCustomerData.name())\n",
    "    customerEmail.append(fakeCustomerData.email())\n",
    "    customerAddress.append(fakeCustomerData.address())\n",
    "    customerCompany.append(fakeCustomerData.company())\n",
    "    customerPhone.append(fakeCustomerData.phone_number())\n",
    "\n",
    "for x in range(100):\n",
    "    customerAge.append(np.random.randint(20,100))\n",
    "\n",
    "dfCustomer = pd.DataFrame({\"CustomerName\":customerNames,\"Age\":customerAge,\n",
    "                           \"Works at\":customerCompany,\"Email\":customerEmail,\"Address\":customerAddress,\"Phone\":customerPhone})\n",
    "\n",
    "display(dfCustomer)\n"
   ]
  }
 ],
 "metadata": {
  "kernelspec": {
   "display_name": "Python 3",
   "language": "python",
   "name": "python3"
  },
  "language_info": {
   "codemirror_mode": {
    "name": "ipython",
    "version": 3
   },
   "file_extension": ".py",
   "mimetype": "text/x-python",
   "name": "python",
   "nbconvert_exporter": "python",
   "pygments_lexer": "ipython3",
   "version": "3.10.5"
  }
 },
 "nbformat": 4,
 "nbformat_minor": 2
}
