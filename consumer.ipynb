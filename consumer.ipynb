{
 "cells": [
  {
   "cell_type": "code",
   "execution_count": 14,
   "metadata": {},
   "outputs": [
    {
     "data": {
      "text/html": [
       "<div>\n",
       "<style scoped>\n",
       "    .dataframe tbody tr th:only-of-type {\n",
       "        vertical-align: middle;\n",
       "    }\n",
       "\n",
       "    .dataframe tbody tr th {\n",
       "        vertical-align: top;\n",
       "    }\n",
       "\n",
       "    .dataframe thead th {\n",
       "        text-align: right;\n",
       "    }\n",
       "</style>\n",
       "<table border=\"1\" class=\"dataframe\">\n",
       "  <thead>\n",
       "    <tr style=\"text-align: right;\">\n",
       "      <th></th>\n",
       "      <th>id</th>\n",
       "      <th>first_name</th>\n",
       "      <th>last_name</th>\n",
       "      <th>gender</th>\n",
       "      <th>roles</th>\n",
       "    </tr>\n",
       "  </thead>\n",
       "  <tbody>\n",
       "    <tr>\n",
       "      <th>0</th>\n",
       "      <td>c84d4cf9-a320-44d6-a3cc-d70d534ec7a0</td>\n",
       "      <td>Vineeth</td>\n",
       "      <td>Kumar</td>\n",
       "      <td>male</td>\n",
       "      <td>[admin]</td>\n",
       "    </tr>\n",
       "    <tr>\n",
       "      <th>1</th>\n",
       "      <td>c84d4cf9-a320-44d6-a3cc-d70d534ec7a0</td>\n",
       "      <td>Kamala</td>\n",
       "      <td>Harris</td>\n",
       "      <td>female</td>\n",
       "      <td>[admin]</td>\n",
       "    </tr>\n",
       "    <tr>\n",
       "      <th>2</th>\n",
       "      <td>c84d4cf9-a320-44d6-a3cc-d70d534ec7a0</td>\n",
       "      <td>Charles</td>\n",
       "      <td>Kobe</td>\n",
       "      <td>male</td>\n",
       "      <td>[admin]</td>\n",
       "    </tr>\n",
       "    <tr>\n",
       "      <th>3</th>\n",
       "      <td>2e751180-1691-4a0a-bed1-ac93a3bc8789</td>\n",
       "      <td>test</td>\n",
       "      <td>test</td>\n",
       "      <td>male</td>\n",
       "      <td>[admin]</td>\n",
       "    </tr>\n",
       "  </tbody>\n",
       "</table>\n",
       "</div>"
      ],
      "text/plain": [
       "                                     id first_name last_name  gender    roles\n",
       "0  c84d4cf9-a320-44d6-a3cc-d70d534ec7a0    Vineeth     Kumar    male  [admin]\n",
       "1  c84d4cf9-a320-44d6-a3cc-d70d534ec7a0     Kamala    Harris  female  [admin]\n",
       "2  c84d4cf9-a320-44d6-a3cc-d70d534ec7a0    Charles      Kobe    male  [admin]\n",
       "3  2e751180-1691-4a0a-bed1-ac93a3bc8789       test      test    male  [admin]"
      ]
     },
     "metadata": {},
     "output_type": "display_data"
    }
   ],
   "source": [
    "import requests\n",
    "import pandas as pd\n",
    "import json\n",
    "\n",
    "url='http://127.0.0.1:8000/employees1'\n",
    "headers = { 'Content-Type' : 'text',\n",
    "            'X-API-Key': 'dell1234'}\n",
    "resp=requests.get(url,headers=headers)\n",
    "\n",
    "if resp.status_code==200:\n",
    "    #empjson=resp.json()\n",
    "    emptext=resp.text\n",
    "    empjson=json.loads(emptext)#converts text to json\n",
    "    df=pd.DataFrame(empjson)\n",
    "    if not df.empty:\n",
    "        display(df)            \n",
    "else:\n",
    "    print('Failuer'+str(resp.status_code))"
   ]
  }
 ],
 "metadata": {
  "kernelspec": {
   "display_name": "Python 3",
   "language": "python",
   "name": "python3"
  },
  "language_info": {
   "codemirror_mode": {
    "name": "ipython",
    "version": 3
   },
   "file_extension": ".py",
   "mimetype": "text/x-python",
   "name": "python",
   "nbconvert_exporter": "python",
   "pygments_lexer": "ipython3",
   "version": "3.10.5"
  }
 },
 "nbformat": 4,
 "nbformat_minor": 2
}
